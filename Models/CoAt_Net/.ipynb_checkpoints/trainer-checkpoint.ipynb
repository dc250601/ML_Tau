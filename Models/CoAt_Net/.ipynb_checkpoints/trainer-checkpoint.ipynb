{
 "cells": [
  {
   "cell_type": "code",
   "execution_count": 2,
   "metadata": {},
   "outputs": [
    {
     "name": "stderr",
     "output_type": "stream",
     "text": [
      "c:\\Users\\ML_RTC\\Desktop\\Tau\\work\\lib\\site-packages\\tqdm\\auto.py:22: TqdmWarning: IProgress not found. Please update jupyter and ipywidgets. See https://ipywidgets.readthedocs.io/en/stable/user_install.html\n",
      "  from .autonotebook import tqdm as notebook_tqdm\n"
     ]
    }
   ],
   "source": [
    "import numpy as np\n",
    "import matplotlib.pyplot as plt\n",
    "import timm\n",
    "import coat\n",
    "import numpy as np\n",
    "import torch.nn as nn\n",
    "import torch\n",
    "from torchvision import datasets, models, transforms\n",
    "from typing import Any\n",
    "from tqdm.auto import tqdm\n",
    "import matplotlib.pyplot as plt\n",
    "import numpy as np\n",
    "from torchvision.utils import make_grid\n",
    "from torch.utils.data import DataLoader\n",
    "import matplotlib.pyplot as plt\n",
    "from sklearn.metrics import accuracy_score\n",
    "from sklearn.metrics import roc_curve\n",
    "from sklearn import metrics\n",
    "import gc\n",
    "\n",
    "import torch\n",
    "import torch.nn as nn\n",
    "\n",
    "from einops import rearrange\n",
    "from einops.layers.torch import Rearrange\n",
    "import PIL.Image as Image\n",
    "import PIL as pil"
   ]
  },
  {
   "cell_type": "code",
   "execution_count": 2,
   "metadata": {},
   "outputs": [],
   "source": [
    "def metric(y_true, y_pred):\n",
    "    fpr, tpr, thresholds = roc_curve(y_true, y_pred)\n",
    "    auc = metrics.auc(fpr, tpr)\n",
    "    return auc\n",
    "\n",
    "def straightner(a):\n",
    "    A = np.zeros((a[0].shape[0]*len(a)))\n",
    "    start_index = 0\n",
    "    end_index = 0\n",
    "    for i in range(len(a)):\n",
    "        start_index = i*a[0].shape[0]\n",
    "        end_index = start_index+a[0].shape[0]\n",
    "        A[start_index:end_index] = a[i]\n",
    "    return A\n",
    "\n",
    "def predictor(outputs):\n",
    "    return np.argmax(outputs, axis = 1)"
   ]
  },
  {
   "cell_type": "code",
   "execution_count": 3,
   "metadata": {},
   "outputs": [
    {
     "name": "stderr",
     "output_type": "stream",
     "text": [
      "c:\\Users\\ML_RTC\\Desktop\\Tau\\work\\lib\\site-packages\\torch\\functional.py:478: UserWarning: torch.meshgrid: in an upcoming release, it will be required to pass the indexing argument. (Triggered internally at  C:\\actions-runner\\_work\\pytorch\\pytorch\\builder\\windows\\pytorch\\aten\\src\\ATen\\native\\TensorShape.cpp:2895.)\n",
      "  return _VF.meshgrid(tensors, **kwargs)  # type: ignore[attr-defined]\n"
     ]
    }
   ],
   "source": [
    "image_size = (128,128)\n",
    "in_channels = 3\n",
    "num_blocks = [2, 2, 3, 5, 2]\n",
    "channels = [64, 96, 192, 384, 768]\n",
    "num_classes = 1\n",
    "model = coat.CoAtNet(image_size = image_size,\n",
    "                        in_channels = in_channels,\n",
    "                        num_blocks = num_blocks,\n",
    "                        channels = channels,\n",
    "                        num_classes = num_classes)"
   ]
  },
  {
   "cell_type": "code",
   "execution_count": 27,
   "metadata": {},
   "outputs": [],
   "source": [
    "import einops\n",
    "\n",
    "\n",
    "class restruct(torch.nn.Module):\n",
    "    \n",
    "    def __init__(self):\n",
    "        super().__init__()\n",
    "        \n",
    "    def forward(self, img):\n",
    "        \"\"\"\n",
    "        Args:\n",
    "            img (PIL Image or Tensor): Image to be scaled.\n",
    "        Returns:\n",
    "            PIL Image or Tensor: Rescaled image.\n",
    "        \"\"\"\n",
    "    \n",
    "        return einops.rearrange(torch.squeeze(img), 'h ( w c ) -> c h w ', w = 125, c=13)\n",
    "\n",
    "\n",
    "def pil_loader(path: str) -> Image.Image:\n",
    "    # open path as file to avoid ResourceWarning (https://github.com/python-pillow/Pillow/issues/835)\n",
    "    with open(path, 'rb') as f:\n",
    "        img = Image.open(f)\n",
    "        return img.convert('L')\n"
   ]
  },
  {
   "cell_type": "code",
   "execution_count": 90,
   "metadata": {},
   "outputs": [],
   "source": [
    "train_transform = transforms.Compose([transforms.Resize((128,128)),\n",
    "                            transforms.RandomHorizontalFlip(),\n",
    "                            transforms.RandomVerticalFlip(),\n",
    "                            transforms.RandomRotation(60),\n",
    "                            transforms.ToTensor()\n",
    "                            ])\n",
    "test_transform = transforms.Compose([transforms.Resize((128,128)),\n",
    "                            transforms.ToTensor()\n",
    "                            ])\n",
    "transform = transforms.Compose([\n",
    "                             transforms.ToTensor(),\n",
    "                             restruct(),\n",
    "#                              transforms.Resize((128,128)),\n",
    "                             transforms.RandomHorizontalFlip(),\n",
    "                             transforms.RandomVerticalFlip(),\n",
    "                             transforms.RandomRotation(60),\n",
    "                             \n",
    "                            ]\n",
    "                            )"
   ]
  },
  {
   "cell_type": "code",
   "execution_count": 91,
   "metadata": {},
   "outputs": [],
   "source": [
    "# dataset_Train = datasets.ImageFolder('./data_2/Train/', transform=train_transform)\n",
    "# dataset_Test = datasets.ImageFolder('./data_2/Test/', transform =test_transform)\n",
    "dataset_Test = datasets.ImageFolder(\"C:/Users/ML_RTC/Desktop/Tau/data/Tau_Dataset/Test/\",transform =transform, loader = pil_loader)\n",
    "# dataloader_train = torch.utils.data.DataLoader(dataset_Train, batch_size=300, shuffle=True, drop_last = True, num_workers=4, pin_memory = True)\n",
    "dataloader_test = torch.utils.data.DataLoader(dataset_Test, batch_size=300, shuffle=True, drop_last = True, num_workers=0, pin_memory = True)    \n"
   ]
  },
  {
   "cell_type": "code",
   "execution_count": 92,
   "metadata": {},
   "outputs": [],
   "source": [
    "loader = iter(dataloader_test)"
   ]
  },
  {
   "cell_type": "code",
   "execution_count": 88,
   "metadata": {},
   "outputs": [],
   "source": [
    "import time"
   ]
  },
  {
   "cell_type": "code",
   "execution_count": 93,
   "metadata": {},
   "outputs": [
    {
     "name": "stderr",
     "output_type": "stream",
     "text": [
      "100%|████████████████████████████████████████████████████████████████████████████████| 100/100 [02:48<00:00,  1.68s/it]"
     ]
    },
    {
     "name": "stdout",
     "output_type": "stream",
     "text": [
      "168.33496189117432\n"
     ]
    },
    {
     "name": "stderr",
     "output_type": "stream",
     "text": [
      "\n"
     ]
    }
   ],
   "source": [
    "a = time.time()\n",
    "for i in tqdm(range(100)):\n",
    "    batch = next(loader)\n",
    "b = time.time()\n",
    "print(b-a)"
   ]
  },
  {
   "cell_type": "code",
   "execution_count": 63,
   "metadata": {},
   "outputs": [
    {
     "data": {
      "text/plain": [
       "torch.Size([300, 13, 128, 128])"
      ]
     },
     "execution_count": 63,
     "metadata": {},
     "output_type": "execute_result"
    }
   ],
   "source": [
    "batch[0].shape"
   ]
  },
  {
   "cell_type": "code",
   "execution_count": 64,
   "metadata": {},
   "outputs": [
    {
     "data": {
      "text/plain": [
       "<matplotlib.image.AxesImage at 0x15b7e8d30a0>"
      ]
     },
     "execution_count": 64,
     "metadata": {},
     "output_type": "execute_result"
    },
    {
     "data": {
      "image/png": "[encoded data removed]",
      "text/plain": [
       "<Figure size 640x480 with 1 Axes>"
      ]
     },
     "metadata": {},
     "output_type": "display_data"
    }
   ],
   "source": [
    "plt.imshow(batch[0][0,6,:,:].T)"
   ]
  },
  {
   "cell_type": "code",
   "execution_count": null,
   "metadata": {},
   "outputs": [],
   "source": [
    "\n",
    "\n",
    "\n",
    "\n",
    "\n",
    "\n",
    "\n",
    "\n",
    "\n",
    "\n",
    "optimizer = torch.optim.AdamW(model.parameters(), lr = 0.0005, weight_decay = 0.05)\n",
    "criterion = nn.BCEWithLogitsLoss()\n",
    "scheduler = torch.optim.lr_scheduler.ReduceLROnPlateau(optimizer, 'max', verbose = True,threshold = 0.0001,patience = 3, factor = 0.5)\n",
    "\n",
    "model = model.to(\"cuda\")\n",
    "\n",
    "\n",
    "\n",
    "import wandb\n",
    "wandb.login(key=\"cb53927c12bd57a0d943d2dedf7881cfcdcc8f09\")\n",
    "wandb.init(\n",
    "    project = \"Total_dataset\",\n",
    "    name = \"CoAt-0_run2_1_low_lr_adam\"\n",
    ")\n",
    "\n",
    "scaler = torch.cuda.amp.GradScaler()\n",
    "#--------------------------\n",
    "wandb.watch(model, log_freq=50)\n",
    "#---------------------------\n",
    "w_intr = 50\n",
    "\n",
    "for epoch in range(100):\n",
    "    train_loss = 0\n",
    "    val_loss = 0\n",
    "    train_steps = 0\n",
    "    test_steps = 0\n",
    "    label_list = []\n",
    "    outputs_list = []\n",
    "    train_auc = 0\n",
    "    test_auc = 0\n",
    "    model.train()\n",
    "    for image, label in tqdm(dataloader_train):\n",
    "        image = image.to(\"cuda\")\n",
    "        label = label.to(\"cuda\")\n",
    "        #optimizer.zero_grad()\n",
    "        for param in model.parameters():\n",
    "            param.grad = None\n",
    "\n",
    "        with torch.cuda.amp.autocast():\n",
    "            outputs = model(image)\n",
    "            loss = criterion(outputs, label.float())\n",
    "        label_list.append(label.detach().cpu().numpy())\n",
    "        outputs_list.append(outputs.detach().cpu().numpy())\n",
    "        scaler.scale(loss).backward()\n",
    "        scaler.step(optimizer)\n",
    "        scaler.update()\n",
    "        train_loss += loss.item()\n",
    "        train_steps += 1\n",
    "        if train_steps%w_intr == 0:\n",
    "                wandb.log({\"loss\": loss.item()})\n",
    "    with torch.no_grad():\n",
    "        label_list = straightner(label_list)\n",
    "        outputs_list = straightner(outputs_list)\n",
    "        train_auc = metric(label_list, outputs_list) \n",
    "\n",
    "\n",
    "\n",
    "\n",
    "    #-------------------------------------------------------------------\n",
    "    model.eval()\n",
    "    label_list = []\n",
    "    outputs_list = []\n",
    "    with torch.no_grad():\n",
    "        for image, label in tqdm(dataloader_test):\n",
    "            image = image.to(\"cuda\")\n",
    "            label = label.to(\"cuda\")\n",
    "            outputs = model(image)\n",
    "            loss = criterion(outputs, label.float())\n",
    "            label_list.append(label.detach().cpu().numpy())\n",
    "            outputs_list.append(outputs.detach().cpu().numpy())\n",
    "            val_loss += loss.item()\n",
    "            test_steps +=1\n",
    "            if test_steps%w_intr == 0:\n",
    "                wandb.log({\"val_loss\": loss.item()})\n",
    "        label_list = straightner(label_list)\n",
    "        outputs_list = straightner(outputs_list)\n",
    "        test_auc = metric(label_list, outputs_list)\n",
    "\n",
    "    train_loss = train_loss/train_steps\n",
    "    val_loss = val_loss/ test_steps\n",
    "#     hist_loss_train.append(train_loss)\n",
    "#     hist_loss_test.append(val_loss)\n",
    "#     hist_auc_train.append(train_auc)\n",
    "#     hist_auc_test.append(test_auc)\n",
    "\n",
    "    print(\"----------------------------------------------------\")\n",
    "    print(\"Epoch No\" , epoch)\n",
    "    print(\"The Training loss of the epoch, \",train_loss)\n",
    "    print(\"The Training AUC of the epoch,  %.3f\"%train_auc)\n",
    "    print(\"The validation loss of the epoch, \",val_loss)\n",
    "    print(\"The validation AUC of the epoch, %.3f\"%test_auc)\n",
    "    print(\"----------------------------------------------------\")\n",
    "    PATH = f\"model_Epoch_{epoch}.pt\"\n",
    "    torch.save({\n",
    "            'epoch': epoch,\n",
    "            'model_state_dict': model.state_dict(),\n",
    "            'optimizer_state_dict': optimizer.state_dict(),\n",
    "            'scheduler': scheduler.state_dict()\n",
    "            }, PATH)\n",
    "    scheduler.step(test_auc)\n",
    "    curr_lr = scheduler._last_lr[0]\n",
    "    wandb.log({\"Train_auc_epoch\": train_auc,\n",
    "                \"Epoch\": epoch,\n",
    "                \"Val_auc_epoch\": test_auc,\n",
    "                \"Train_loss_epoch\": train_loss,\n",
    "                \"Val_loss_epoch\": val_loss,\n",
    "                \"Lr\": curr_lr}\n",
    "                )\n",
    "    gc.collect()\n",
    "\n",
    "wandb.finish()\n",
    "    \n",
    "    \n",
    "    \n"
   ]
  }
 ],
 "metadata": {
  "kernelspec": {
   "display_name": "work",
   "language": "python",
   "name": "work"
  },
  "language_info": {
   "codemirror_mode": {
    "name": "ipython",
    "version": 3
   },
   "file_extension": ".py",
   "mimetype": "text/x-python",
   "name": "python",
   "nbconvert_exporter": "python",
   "pygments_lexer": "ipython3",
   "version": "3.9.13"
  },
  "vscode": {
   "interpreter": {
    "hash": "a451ac2f6474dd9b0a30794b989a06fd287e54d8f56584134d8b3bcabcab9c76"
   }
  }
 },
 "nbformat": 4,
 "nbformat_minor": 2
}
