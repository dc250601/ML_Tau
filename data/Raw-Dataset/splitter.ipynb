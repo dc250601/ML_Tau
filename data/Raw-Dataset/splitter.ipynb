{
 "cells": [
  {
   "cell_type": "code",
   "execution_count": 39,
   "metadata": {},
   "outputs": [],
   "source": [
    "import os\n",
    "import sys\n",
    "import numpy as np\n",
    "import matplotlib.pyplot as plt\n",
    "import random"
   ]
  },
  {
   "cell_type": "code",
   "execution_count": 2,
   "metadata": {},
   "outputs": [
    {
     "data": {
      "text/plain": [
       "['DYToTauTau_M-10_13TeV_pythia8_2018',\n",
       " 'DYToTauTau_M-10_13TeV_pythia8_2018_ext1',\n",
       " 'QCD_Pt-20to200_TuneCUETP8M1_13TeV_pythia8_2018',\n",
       " 'TTbar_TuneCUETP8M1_13TeV_pythia8_2018',\n",
       " 'WJetsToLNu_13TeV_2018']"
      ]
     },
     "execution_count": 2,
     "metadata": {},
     "output_type": "execute_result"
    }
   ],
   "source": [
    "os.listdir(\"./Data_extracted/\")"
   ]
  },
  {
   "cell_type": "code",
   "execution_count": 25,
   "metadata": {},
   "outputs": [
    {
     "data": {
      "text/plain": [
       "404338"
      ]
     },
     "execution_count": 25,
     "metadata": {},
     "output_type": "execute_result"
    }
   ],
   "source": [
    "files = os.listdir(\"./Data_extracted/DYToTauTau_M-10_13TeV_pythia8_2018\")\n",
    "file_path_A = list(map(lambda x: os.path.join(\"./Data_extracted/DYToTauTau_M-10_13TeV_pythia8_2018\",x),files))\n",
    "len(files)"
   ]
  },
  {
   "cell_type": "code",
   "execution_count": 26,
   "metadata": {},
   "outputs": [
    {
     "data": {
      "text/plain": [
       "405082"
      ]
     },
     "execution_count": 26,
     "metadata": {},
     "output_type": "execute_result"
    }
   ],
   "source": [
    "files = os.listdir(\"./Data_extracted/DYToTauTau_M-10_13TeV_pythia8_2018_ext1/\")\n",
    "file_path_B = list(map(lambda x: os.path.join(\"./Data_extracted/DYToTauTau_M-10_13TeV_pythia8_2018_ext1/\",x),files))\n",
    "len(files)"
   ]
  },
  {
   "cell_type": "code",
   "execution_count": 27,
   "metadata": {},
   "outputs": [
    {
     "data": {
      "text/plain": [
       "269807"
      ]
     },
     "execution_count": 27,
     "metadata": {},
     "output_type": "execute_result"
    }
   ],
   "source": [
    "files = os.listdir(\"./Data_extracted/QCD_Pt-20to200_TuneCUETP8M1_13TeV_pythia8_2018/\")\n",
    "file_path_1 = list(map(lambda x: os.path.join(\"./Data_extracted/QCD_Pt-20to200_TuneCUETP8M1_13TeV_pythia8_2018/\",x),files))\n",
    "len(files)"
   ]
  },
  {
   "cell_type": "code",
   "execution_count": 28,
   "metadata": {},
   "outputs": [
    {
     "data": {
      "text/plain": [
       "269807"
      ]
     },
     "execution_count": 28,
     "metadata": {},
     "output_type": "execute_result"
    }
   ],
   "source": [
    "files = os.listdir(\"./Data_extracted/TTbar_TuneCUETP8M1_13TeV_pythia8_2018/\")\n",
    "file_path_2 = list(map(lambda x: os.path.join(\"./Data_extracted/TTbar_TuneCUETP8M1_13TeV_pythia8_2018/\",x),files))\n",
    "len(files)"
   ]
  },
  {
   "cell_type": "code",
   "execution_count": 29,
   "metadata": {},
   "outputs": [
    {
     "data": {
      "text/plain": [
       "269807"
      ]
     },
     "execution_count": 29,
     "metadata": {},
     "output_type": "execute_result"
    }
   ],
   "source": [
    "files = os.listdir(\"./Data_extracted/WJetsToLNu_13TeV_2018/\")\n",
    "file_path_3 = list(map(lambda x: os.path.join(\"./Data_extracted/WJetsToLNu_13TeV_2018/\",x),files))\n",
    "len(files)"
   ]
  },
  {
   "cell_type": "code",
   "execution_count": 36,
   "metadata": {},
   "outputs": [],
   "source": [
    "for i in range(len(file_path_3)):\n",
    "    os.rename(file_path_3[i], os.path.join(\"./Data_extracted/0/\",(str(i)+\"_c.png\")))"
   ]
  },
  {
   "cell_type": "code",
   "execution_count": 43,
   "metadata": {},
   "outputs": [],
   "source": [
    "files = os.listdir(\"./Tau_Dataset/1/\")\n",
    "file_path_1 = list(map(lambda x: os.path.join(\"./Tau_Dataset/1/\",x),files))\n",
    "random.shuffle(file_path_1)"
   ]
  },
  {
   "cell_type": "code",
   "execution_count": 44,
   "metadata": {},
   "outputs": [
    {
     "data": {
      "text/plain": [
       "809420"
      ]
     },
     "execution_count": 44,
     "metadata": {},
     "output_type": "execute_result"
    }
   ],
   "source": [
    "len(file_path_1)"
   ]
  },
  {
   "cell_type": "code",
   "execution_count": 42,
   "metadata": {},
   "outputs": [],
   "source": [
    "for i in range(161884):\n",
    "    os.rename(file_path_1[i], os.path.join(\"./Tau_Dataset/Test/1/\",(str(i)+\".png\")))"
   ]
  }
 ],
 "metadata": {
  "kernelspec": {
   "display_name": "Python 3.9.13 ('work': venv)",
   "language": "python",
   "name": "python3"
  },
  "language_info": {
   "codemirror_mode": {
    "name": "ipython",
    "version": 3
   },
   "file_extension": ".py",
   "mimetype": "text/x-python",
   "name": "python",
   "nbconvert_exporter": "python",
   "pygments_lexer": "ipython3",
   "version": "3.9.13"
  },
  "orig_nbformat": 4,
  "vscode": {
   "interpreter": {
    "hash": "a451ac2f6474dd9b0a30794b989a06fd287e54d8f56584134d8b3bcabcab9c76"
   }
  }
 },
 "nbformat": 4,
 "nbformat_minor": 2
}
