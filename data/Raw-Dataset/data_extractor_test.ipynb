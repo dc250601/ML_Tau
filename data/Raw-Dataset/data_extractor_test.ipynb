{
 "cells": [
  {
   "cell_type": "code",
   "execution_count": 1,
   "metadata": {},
   "outputs": [
    {
     "name": "stderr",
     "output_type": "stream",
     "text": [
      "c:\\Users\\ML_RTC\\Desktop\\Tau\\work\\lib\\site-packages\\tqdm\\auto.py:22: TqdmWarning: IProgress not found. Please update jupyter and ipywidgets. See https://ipywidgets.readthedocs.io/en/stable/user_install.html\n",
      "  from .autonotebook import tqdm as notebook_tqdm\n"
     ]
    }
   ],
   "source": [
    "import numpy as np\n",
    "import os\n",
    "import random\n",
    "from tqdm.auto import tqdm\n",
    "import cv2\n",
    "import pyarrow.parquet as pq\n",
    "import glob\n",
    "import math\n",
    "import cupy as cp\n",
    "from einops import rearrange\n",
    "import time as time"
   ]
  },
  {
   "cell_type": "code",
   "execution_count": 7,
   "metadata": {},
   "outputs": [],
   "source": [
    "file = pq.ParquetFile(\"./Data_Raw_Tau/DYToTauTau_M-10_13TeV_pythia8_2018/DYToTauTau_M-10_13TeV_pythia8_2018_3.parquet\")\n",
    "batch = file.iter_batches(256)\n",
    "batch = next(batch)\n",
    "batch = batch.to_pandas()\n",
    "meta = np.array(batch.iloc[:, 1])"
   ]
  },
  {
   "cell_type": "code",
   "execution_count": 8,
   "metadata": {},
   "outputs": [
    {
     "data": {
      "text/html": [
       "<div>\n",
       "<style scoped>\n",
       "    .dataframe tbody tr th:only-of-type {\n",
       "        vertical-align: middle;\n",
       "    }\n",
       "\n",
       "    .dataframe tbody tr th {\n",
       "        vertical-align: top;\n",
       "    }\n",
       "\n",
       "    .dataframe thead th {\n",
       "        text-align: right;\n",
       "    }\n",
       "</style>\n",
       "<table border=\"1\" class=\"dataframe\">\n",
       "  <thead>\n",
       "    <tr style=\"text-align: right;\">\n",
       "      <th></th>\n",
       "      <th>y</th>\n",
       "      <th>pv</th>\n",
       "      <th>gen_prongs</th>\n",
       "      <th>X_jet</th>\n",
       "      <th>gen_pT</th>\n",
       "    </tr>\n",
       "  </thead>\n",
       "  <tbody>\n",
       "    <tr>\n",
       "      <th>0</th>\n",
       "      <td>1.0</td>\n",
       "      <td>28.0</td>\n",
       "      <td>1.0</td>\n",
       "      <td>[[[0.0, 0.0, 0.0, 0.0, 0.0, 0.0, 0.0, 0.0, 0.0...</td>\n",
       "      <td>48.832783</td>\n",
       "    </tr>\n",
       "    <tr>\n",
       "      <th>1</th>\n",
       "      <td>1.0</td>\n",
       "      <td>19.0</td>\n",
       "      <td>1.0</td>\n",
       "      <td>[[[0.0, 0.0, 0.0, 0.0, 0.0, 0.0, 0.0, 0.0, 0.0...</td>\n",
       "      <td>27.424585</td>\n",
       "    </tr>\n",
       "    <tr>\n",
       "      <th>2</th>\n",
       "      <td>1.0</td>\n",
       "      <td>15.0</td>\n",
       "      <td>1.0</td>\n",
       "      <td>[[[0.0, 0.0, 0.0, 0.0, 0.0, 0.0, 0.0, 0.0, 0.0...</td>\n",
       "      <td>31.202829</td>\n",
       "    </tr>\n",
       "    <tr>\n",
       "      <th>3</th>\n",
       "      <td>1.0</td>\n",
       "      <td>34.0</td>\n",
       "      <td>1.0</td>\n",
       "      <td>[[[0.0, 0.0, 0.0, 0.0, 0.0, 0.0, 0.0, 0.0, 0.0...</td>\n",
       "      <td>22.453835</td>\n",
       "    </tr>\n",
       "    <tr>\n",
       "      <th>4</th>\n",
       "      <td>1.0</td>\n",
       "      <td>17.0</td>\n",
       "      <td>1.0</td>\n",
       "      <td>[[[0.0, 0.0, 0.0, 0.0, 0.0, 0.0, 0.0, 0.831943...</td>\n",
       "      <td>23.492826</td>\n",
       "    </tr>\n",
       "    <tr>\n",
       "      <th>...</th>\n",
       "      <td>...</td>\n",
       "      <td>...</td>\n",
       "      <td>...</td>\n",
       "      <td>...</td>\n",
       "      <td>...</td>\n",
       "    </tr>\n",
       "    <tr>\n",
       "      <th>251</th>\n",
       "      <td>1.0</td>\n",
       "      <td>30.0</td>\n",
       "      <td>1.0</td>\n",
       "      <td>[[[0.0, 0.0, 0.0, 0.0, 0.0, 0.0, 0.0, 0.0, 0.0...</td>\n",
       "      <td>42.770519</td>\n",
       "    </tr>\n",
       "    <tr>\n",
       "      <th>252</th>\n",
       "      <td>1.0</td>\n",
       "      <td>26.0</td>\n",
       "      <td>1.0</td>\n",
       "      <td>[[[0.0, 0.0, 0.0, 0.0, 0.0, 0.0, 0.0, 0.0, 0.0...</td>\n",
       "      <td>52.777267</td>\n",
       "    </tr>\n",
       "    <tr>\n",
       "      <th>253</th>\n",
       "      <td>1.0</td>\n",
       "      <td>23.0</td>\n",
       "      <td>1.0</td>\n",
       "      <td>[[[0.0, 0.0, 0.0, 0.0, 0.0, 0.0, 0.0, 0.0, 0.0...</td>\n",
       "      <td>11.009419</td>\n",
       "    </tr>\n",
       "    <tr>\n",
       "      <th>254</th>\n",
       "      <td>1.0</td>\n",
       "      <td>14.0</td>\n",
       "      <td>1.0</td>\n",
       "      <td>[[[0.0, 0.0, 0.0, 0.0, 0.0, 0.0, 0.0, 0.0, 0.0...</td>\n",
       "      <td>6.730433</td>\n",
       "    </tr>\n",
       "    <tr>\n",
       "      <th>255</th>\n",
       "      <td>1.0</td>\n",
       "      <td>30.0</td>\n",
       "      <td>1.0</td>\n",
       "      <td>[[[0.0, 0.0, 0.0, 0.0, 0.0, 0.0, 0.0, 0.0, 0.0...</td>\n",
       "      <td>4.091452</td>\n",
       "    </tr>\n",
       "  </tbody>\n",
       "</table>\n",
       "<p>256 rows × 5 columns</p>\n",
       "</div>"
      ],
      "text/plain": [
       "       y    pv  gen_prongs                                              X_jet  \\\n",
       "0    1.0  28.0         1.0  [[[0.0, 0.0, 0.0, 0.0, 0.0, 0.0, 0.0, 0.0, 0.0...   \n",
       "1    1.0  19.0         1.0  [[[0.0, 0.0, 0.0, 0.0, 0.0, 0.0, 0.0, 0.0, 0.0...   \n",
       "2    1.0  15.0         1.0  [[[0.0, 0.0, 0.0, 0.0, 0.0, 0.0, 0.0, 0.0, 0.0...   \n",
       "3    1.0  34.0         1.0  [[[0.0, 0.0, 0.0, 0.0, 0.0, 0.0, 0.0, 0.0, 0.0...   \n",
       "4    1.0  17.0         1.0  [[[0.0, 0.0, 0.0, 0.0, 0.0, 0.0, 0.0, 0.831943...   \n",
       "..   ...   ...         ...                                                ...   \n",
       "251  1.0  30.0         1.0  [[[0.0, 0.0, 0.0, 0.0, 0.0, 0.0, 0.0, 0.0, 0.0...   \n",
       "252  1.0  26.0         1.0  [[[0.0, 0.0, 0.0, 0.0, 0.0, 0.0, 0.0, 0.0, 0.0...   \n",
       "253  1.0  23.0         1.0  [[[0.0, 0.0, 0.0, 0.0, 0.0, 0.0, 0.0, 0.0, 0.0...   \n",
       "254  1.0  14.0         1.0  [[[0.0, 0.0, 0.0, 0.0, 0.0, 0.0, 0.0, 0.0, 0.0...   \n",
       "255  1.0  30.0         1.0  [[[0.0, 0.0, 0.0, 0.0, 0.0, 0.0, 0.0, 0.0, 0.0...   \n",
       "\n",
       "        gen_pT  \n",
       "0    48.832783  \n",
       "1    27.424585  \n",
       "2    31.202829  \n",
       "3    22.453835  \n",
       "4    23.492826  \n",
       "..         ...  \n",
       "251  42.770519  \n",
       "252  52.777267  \n",
       "253  11.009419  \n",
       "254   6.730433  \n",
       "255   4.091452  \n",
       "\n",
       "[256 rows x 5 columns]"
      ]
     },
     "execution_count": 8,
     "metadata": {},
     "output_type": "execute_result"
    }
   ],
   "source": [
    "batch"
   ]
  },
  {
   "cell_type": "code",
   "execution_count": 3,
   "metadata": {},
   "outputs": [],
   "source": [
    "file = pq.ParquetFile(\"./Data_Raw_Tau/DYToTauTau_M-10_13TeV_pythia8_2018/DYToTauTau_M-10_13TeV_pythia8_2018_0.parquet\")\n"
   ]
  },
  {
   "cell_type": "code",
   "execution_count": 9,
   "metadata": {},
   "outputs": [],
   "source": [
    "batch = file.read_row_groups(np.arange(0,2048))\n",
    "# batch = batch.to_pydict()"
   ]
  },
  {
   "cell_type": "code",
   "execution_count": 28,
   "metadata": {},
   "outputs": [],
   "source": [
    "im = np.array(batch[\"X_jet\"])"
   ]
  },
  {
   "cell_type": "code",
   "execution_count": 29,
   "metadata": {},
   "outputs": [
    {
     "data": {
      "text/plain": [
       "(10, 13, 125, 125)"
      ]
     },
     "execution_count": 29,
     "metadata": {},
     "output_type": "execute_result"
    }
   ],
   "source": [
    "im.shape"
   ]
  },
  {
   "cell_type": "code",
   "execution_count": 23,
   "metadata": {},
   "outputs": [],
   "source": [
    "im.shape\n",
    "import matplotlib.pyplot as plt"
   ]
  },
  {
   "cell_type": "code",
   "execution_count": 10,
   "metadata": {},
   "outputs": [
    {
     "name": "stdout",
     "output_type": "stream",
     "text": [
      "(256, 125, 125, 13)\n"
     ]
    }
   ],
   "source": [
    "y = rearrange(im, 'b c h w -> b h w c')\n",
    "print(y.shape)\n",
    "test = y.copy()\n",
    "test = rearrange(test, 'b h w c -> b h ( w c )')\n",
    "test2 = test.copy()\n",
    "test2 = rearrange(test2, 'b h ( w c ) -> b h w c', w = 125, c=13)"
   ]
  },
  {
   "cell_type": "code",
   "execution_count": 31,
   "metadata": {},
   "outputs": [
    {
     "data": {
      "text/plain": [
       "(32, 125, 1625)"
      ]
     },
     "execution_count": 31,
     "metadata": {},
     "output_type": "execute_result"
    }
   ],
   "source": [
    "test.shape"
   ]
  },
  {
   "cell_type": "code",
   "execution_count": 8,
   "metadata": {},
   "outputs": [
    {
     "data": {
      "text/plain": [
       "True"
      ]
     },
     "execution_count": 8,
     "metadata": {},
     "output_type": "execute_result"
    }
   ],
   "source": [
    "(test2.get() == y.get()).all()"
   ]
  },
  {
   "cell_type": "code",
   "execution_count": 34,
   "metadata": {},
   "outputs": [
    {
     "data": {
      "text/plain": [
       "<matplotlib.image.AxesImage at 0x28b2ec58970>"
      ]
     },
     "execution_count": 34,
     "metadata": {},
     "output_type": "execute_result"
    },
    {
     "data": {
      "image/png": "[encoded data removed]",
      "text/plain": [
       "<Figure size 640x480 with 1 Axes>"
      ]
     },
     "metadata": {},
     "output_type": "display_data"
    }
   ],
   "source": [
    "plt.imshow(test[0,:,:].get())"
   ]
  },
  {
   "cell_type": "code",
   "execution_count": 25,
   "metadata": {},
   "outputs": [
    {
     "data": {
      "text/plain": [
       "<matplotlib.image.AxesImage at 0x28b2218a8e0>"
      ]
     },
     "execution_count": 25,
     "metadata": {},
     "output_type": "execute_result"
    },
    {
     "data": {
      "image/png": "[encoded data removed]",
      "text/plain": [
       "<Figure size 640x480 with 1 Axes>"
      ]
     },
     "metadata": {},
     "output_type": "display_data"
    }
   ],
   "source": [
    "plt.imshow(y[0,:,:,0].get())"
   ]
  },
  {
   "cell_type": "code",
   "execution_count": 4,
   "metadata": {},
   "outputs": [],
   "source": [
    "iter_batch_time =[]\n",
    "batch_to_pandas_time = []\n",
    "im_extractor_time =[]\n",
    "saver_chunk_1_time = []\n",
    "saver_chunk_2_time =[]"
   ]
  },
  {
   "cell_type": "code",
   "execution_count": 2,
   "metadata": {},
   "outputs": [],
   "source": [
    "\n",
    "BATCH_SIZE = 2048\n",
    "def generate(pf, path, a):\n",
    "    record_batch = pf.iter_batches(batch_size=BATCH_SIZE)\n",
    "    while True:\n",
    "        try:\n",
    "            a_ = time.time()\n",
    "            batch = next(record_batch)\n",
    "            b_ = time.time()\n",
    "            iter_batch_time.append(b_-a_)\n",
    "            ab = transform(batch, path,a)\n",
    "\n",
    "        except StopIteration:\n",
    "            # print(\"Done\")\n",
    "            return ab\n",
    "\n",
    "def transform(batch,path, a):\n",
    "    a_ = time.time()\n",
    "    p = batch.to_pandas()\n",
    "    b_ = time.time()\n",
    "    batch_to_pandas_time.append(b_-a_)\n",
    "    a_ = time.time()\n",
    "    im = cp.array(np.array(np.array(p.iloc[:, 3].tolist()).tolist()).tolist())\n",
    "    meta = np.array(p.iloc[:,0])\n",
    "    b_ = time.time()\n",
    "    im_extractor_time.append(b_-a_)\n",
    "    return saver(im,meta, path, a)\n",
    "\n",
    "\n",
    "def saver(im, meta, path, a):\n",
    "    alpha = a\n",
    "    a_ = time.time()\n",
    "    im[im < 1.e-3] = 0 #Zero_suppression\n",
    "    im = rearrange(im, 'b c h w -> b h w c')\n",
    "    for _z in range(13):\n",
    "        im[:,:,:,_z] = (im[:,:,:,_z] - im[:,:,:,_z].mean())/(im[:,:,:,_z].std())\n",
    "        im[:,:,:,_z] = cp.clip(im[:,:,:,_z], a_min = 0, a_max = 500*im[:,:,:,_z].std(axis = (1,2))[:,None,None])\n",
    "\n",
    "    b_ = time.time()\n",
    "    saver_chunk_1_time.append(b_ - a_)\n",
    "    im = im.get()\n",
    "    a_ = time.time()\n",
    "    for i in range(meta.shape[0]):\n",
    "        img = im[i,:,:,:]\n",
    "        for _z in range(13):\n",
    "            \n",
    "            if (img[:,:,_z]==0).all() == False:\n",
    "                img[:,:,_z] = 255*(img[:,:,_z])/(img[:,:,_z].max())\n",
    "\n",
    "\n",
    "\n",
    "        img = img.astype(np.uint8)\n",
    "        img = rearrange(img, 'h w c -> h ( w c )')\n",
    "        alpha = alpha +1\n",
    "        impath = os.path.join(path,str(str(alpha)+\".png\"))\n",
    "        cv2.imwrite(impath , img)\n",
    "    b_ = time.time()\n",
    "    saver_chunk_2_time.append(b_ - a_)\n",
    "    return alpha\n",
    "\n",
    "\n",
    "def runner(source, target):\n",
    "    \"\"\"\n",
    "    Fuction to convert all the Parquet Files in a given folder to .png format Files\n",
    "    Args:\n",
    "    source: The souce folder of the Parquet Files\n",
    "    target: The target folder where the dataset will be stored\n",
    "    \"\"\"\n",
    "    a = 0\n",
    "    \n",
    "    files = os.listdir(source)\n",
    "    print(\"The following files were found in the provided Directory\")\n",
    "    print(files)\n",
    "    for i in range(len(files)):\n",
    "        a = generate(pq.ParquetFile(os.path.join(source, files[i])), target, a)\n",
    "    print(\"The files were successfully generated\")"
   ]
  },
  {
   "cell_type": "code",
   "execution_count": 5,
   "metadata": {},
   "outputs": [
    {
     "name": "stdout",
     "output_type": "stream",
     "text": [
      "The following files were found in the provided Directory\n",
      "['DYToTauTau_M-10_13TeV_pythia8_2018_ext1_0.parquet', 'DYToTauTau_M-10_13TeV_pythia8_2018_ext1_1.parquet', 'DYToTauTau_M-10_13TeV_pythia8_2018_ext1_2.parquet', 'DYToTauTau_M-10_13TeV_pythia8_2018_ext1_3.parquet', 'DYToTauTau_M-10_13TeV_pythia8_2018_ext1_4.parquet']\n"
     ]
    },
    {
     "ename": "KeyboardInterrupt",
     "evalue": "",
     "output_type": "error",
     "traceback": [
      "\u001b[1;31m---------------------------------------------------------------------------\u001b[0m",
      "\u001b[1;31mKeyboardInterrupt\u001b[0m                         Traceback (most recent call last)",
      "Cell \u001b[1;32mIn [5], line 1\u001b[0m\n\u001b[1;32m----> 1\u001b[0m runner(\u001b[39m\"\u001b[39;49m\u001b[39mC:/Users/ML_RTC/Desktop/Tau/data/Raw-Data/Data_Raw_Tau/DYToTauTau_M-10_13TeV_pythia8_2018_ext1/\u001b[39;49m\u001b[39m\"\u001b[39;49m,\n\u001b[0;32m      2\u001b[0m        \u001b[39m\"\u001b[39;49m\u001b[39mC:/Users/ML_RTC/Desktop/Tau/data/Raw-Data/Data_extracted/DYToTauTau_M-10_13TeV_pythia8_2018_ext1/\u001b[39;49m\u001b[39m\"\u001b[39;49m)\n",
      "Cell \u001b[1;32mIn [2], line 74\u001b[0m, in \u001b[0;36mrunner\u001b[1;34m(source, target)\u001b[0m\n\u001b[0;32m     72\u001b[0m \u001b[39mprint\u001b[39m(files)\n\u001b[0;32m     73\u001b[0m \u001b[39mfor\u001b[39;00m i \u001b[39min\u001b[39;00m \u001b[39mrange\u001b[39m(\u001b[39mlen\u001b[39m(files)):\n\u001b[1;32m---> 74\u001b[0m     a \u001b[39m=\u001b[39m generate(pq\u001b[39m.\u001b[39;49mParquetFile(os\u001b[39m.\u001b[39;49mpath\u001b[39m.\u001b[39;49mjoin(source, files[i])), target, a)\n\u001b[0;32m     75\u001b[0m \u001b[39mprint\u001b[39m(\u001b[39m\"\u001b[39m\u001b[39mThe files were successfully generated\u001b[39m\u001b[39m\"\u001b[39m)\n",
      "Cell \u001b[1;32mIn [2], line 10\u001b[0m, in \u001b[0;36mgenerate\u001b[1;34m(pf, path, a)\u001b[0m\n\u001b[0;32m      8\u001b[0m     b_ \u001b[39m=\u001b[39m time\u001b[39m.\u001b[39mtime()\n\u001b[0;32m      9\u001b[0m     iter_batch_time\u001b[39m.\u001b[39mappend(b_\u001b[39m-\u001b[39ma_)\n\u001b[1;32m---> 10\u001b[0m     ab \u001b[39m=\u001b[39m transform(batch, path,a)\n\u001b[0;32m     12\u001b[0m \u001b[39mexcept\u001b[39;00m \u001b[39mStopIteration\u001b[39;00m:\n\u001b[0;32m     13\u001b[0m     \u001b[39m# print(\"Done\")\u001b[39;00m\n\u001b[0;32m     14\u001b[0m     \u001b[39mreturn\u001b[39;00m ab\n",
      "Cell \u001b[1;32mIn [2], line 26\u001b[0m, in \u001b[0;36mtransform\u001b[1;34m(batch, path, a)\u001b[0m\n\u001b[0;32m     24\u001b[0m b_ \u001b[39m=\u001b[39m time\u001b[39m.\u001b[39mtime()\n\u001b[0;32m     25\u001b[0m im_extractor_time\u001b[39m.\u001b[39mappend(b_\u001b[39m-\u001b[39ma_)\n\u001b[1;32m---> 26\u001b[0m \u001b[39mreturn\u001b[39;00m saver(im,meta, path, a)\n",
      "Cell \u001b[1;32mIn [2], line 46\u001b[0m, in \u001b[0;36msaver\u001b[1;34m(im, meta, path, a)\u001b[0m\n\u001b[0;32m     43\u001b[0m img \u001b[39m=\u001b[39m im[i,:,:,:]\n\u001b[0;32m     44\u001b[0m \u001b[39mfor\u001b[39;00m _z \u001b[39min\u001b[39;00m \u001b[39mrange\u001b[39m(\u001b[39m13\u001b[39m):\n\u001b[1;32m---> 46\u001b[0m     \u001b[39mif\u001b[39;00m (img[:,:,_z]\u001b[39m==\u001b[39;49m\u001b[39m0\u001b[39;49m)\u001b[39m.\u001b[39;49mall() \u001b[39m==\u001b[39m \u001b[39mFalse\u001b[39;00m:\n\u001b[0;32m     47\u001b[0m         img[:,:,_z] \u001b[39m=\u001b[39m \u001b[39m255\u001b[39m\u001b[39m*\u001b[39m(img[:,:,_z])\u001b[39m/\u001b[39m(img[:,:,_z]\u001b[39m.\u001b[39mmax())\n\u001b[0;32m     51\u001b[0m img \u001b[39m=\u001b[39m img\u001b[39m.\u001b[39mastype(np\u001b[39m.\u001b[39muint8)\n",
      "File \u001b[1;32mc:\\Users\\ML_RTC\\Desktop\\Tau\\work\\lib\\site-packages\\numpy\\core\\_methods.py:63\u001b[0m, in \u001b[0;36m_all\u001b[1;34m(a, axis, dtype, out, keepdims, where)\u001b[0m\n\u001b[0;32m     60\u001b[0m \u001b[39mdef\u001b[39;00m \u001b[39m_all\u001b[39m(a, axis\u001b[39m=\u001b[39m\u001b[39mNone\u001b[39;00m, dtype\u001b[39m=\u001b[39m\u001b[39mNone\u001b[39;00m, out\u001b[39m=\u001b[39m\u001b[39mNone\u001b[39;00m, keepdims\u001b[39m=\u001b[39m\u001b[39mFalse\u001b[39;00m, \u001b[39m*\u001b[39m, where\u001b[39m=\u001b[39m\u001b[39mTrue\u001b[39;00m):\n\u001b[0;32m     61\u001b[0m     \u001b[39m# Parsing keyword arguments is currently fairly slow, so avoid it for now\u001b[39;00m\n\u001b[0;32m     62\u001b[0m     \u001b[39mif\u001b[39;00m where \u001b[39mis\u001b[39;00m \u001b[39mTrue\u001b[39;00m:\n\u001b[1;32m---> 63\u001b[0m         \u001b[39mreturn\u001b[39;00m umr_all(a, axis, dtype, out, keepdims)\n\u001b[0;32m     64\u001b[0m     \u001b[39mreturn\u001b[39;00m umr_all(a, axis, dtype, out, keepdims, where\u001b[39m=\u001b[39mwhere)\n",
      "\u001b[1;31mKeyboardInterrupt\u001b[0m: "
     ]
    }
   ],
   "source": [
    "runner(\"C:/Users/ML_RTC/Desktop/Tau/data/Raw-Data/Data_Raw_Tau/WJetsToLNu_13TeV_2018/\",\n",
    "       \"C:/Users/ML_RTC/Desktop/Tau/data/Raw-Data/Data_extracted/WJetsToLNu_13TeV_2018/\")"
   ]
  },
  {
   "cell_type": "code",
   "execution_count": 5,
   "metadata": {},
   "outputs": [
    {
     "data": {
      "text/plain": [
       "[8.411536931991577,\n",
       " 11.97896695137024,\n",
       " 10.307440280914307,\n",
       " 10.322402238845825,\n",
       " 12.163478136062622,\n",
       " 10.882900714874268,\n",
       " 8.485320329666138,\n",
       " 9.075734376907349,\n",
       " 9.078756332397461,\n",
       " 9.82174038887024]"
      ]
     },
     "execution_count": 5,
     "metadata": {},
     "output_type": "execute_result"
    }
   ],
   "source": [
    "iter_batch_time"
   ]
  },
  {
   "cell_type": "code",
   "execution_count": 6,
   "metadata": {},
   "outputs": [
    {
     "data": {
      "text/plain": [
       "[1.3364002704620361,\n",
       " 0.8687012195587158,\n",
       " 0.8616964817047119,\n",
       " 0.8357930183410645,\n",
       " 0.849754810333252,\n",
       " 0.8427455425262451,\n",
       " 0.8367645740509033,\n",
       " 0.7978646755218506,\n",
       " 0.8297486305236816,\n",
       " 0.832772970199585]"
      ]
     },
     "execution_count": 6,
     "metadata": {},
     "output_type": "execute_result"
    }
   ],
   "source": [
    "batch_to_pandas_time\n"
   ]
  },
  {
   "cell_type": "code",
   "execution_count": 7,
   "metadata": {},
   "outputs": [
    {
     "data": {
      "text/plain": [
       "[11.230969905853271,\n",
       " 7.8639678955078125,\n",
       " 6.683130264282227,\n",
       " 6.097667932510376,\n",
       " 5.961036205291748,\n",
       " 5.222036600112915,\n",
       " 5.360100030899048,\n",
       " 5.467889070510864,\n",
       " 4.9776928424835205,\n",
       " 6.98036527633667]"
      ]
     },
     "execution_count": 7,
     "metadata": {},
     "output_type": "execute_result"
    }
   ],
   "source": [
    "im_extractor_time \n"
   ]
  },
  {
   "cell_type": "code",
   "execution_count": 8,
   "metadata": {},
   "outputs": [
    {
     "data": {
      "text/plain": [
       "[0.7499935626983643,\n",
       " 0.42384862899780273,\n",
       " 0.4857330322265625,\n",
       " 0.4597971439361572,\n",
       " 0.4837327003479004,\n",
       " 0.4118998050689697,\n",
       " 0.439821720123291,\n",
       " 0.4916865825653076,\n",
       " 0.5176188945770264,\n",
       " 0.40987396240234375]"
      ]
     },
     "execution_count": 8,
     "metadata": {},
     "output_type": "execute_result"
    }
   ],
   "source": [
    "saver_chunk_1_time \n"
   ]
  },
  {
   "cell_type": "code",
   "execution_count": 9,
   "metadata": {},
   "outputs": [
    {
     "data": {
      "text/plain": [
       "[8.499124765396118,\n",
       " 8.28037714958191,\n",
       " 8.453978538513184,\n",
       " 8.262742519378662,\n",
       " 8.404086112976074,\n",
       " 8.225054502487183,\n",
       " 8.257432222366333,\n",
       " 8.353331565856934,\n",
       " 8.08635926246643,\n",
       " 8.186665534973145]"
      ]
     },
     "execution_count": 9,
     "metadata": {},
     "output_type": "execute_result"
    }
   ],
   "source": [
    "saver_chunk_2_time"
   ]
  }
 ],
 "metadata": {
  "kernelspec": {
   "display_name": "Python 3.9.13 ('work': venv)",
   "language": "python",
   "name": "python3"
  },
  "language_info": {
   "codemirror_mode": {
    "name": "ipython",
    "version": 3
   },
   "file_extension": ".py",
   "mimetype": "text/x-python",
   "name": "python",
   "nbconvert_exporter": "python",
   "pygments_lexer": "ipython3",
   "version": "3.9.13"
  },
  "orig_nbformat": 4,
  "vscode": {
   "interpreter": {
    "hash": "a451ac2f6474dd9b0a30794b989a06fd287e54d8f56584134d8b3bcabcab9c76"
   }
  }
 },
 "nbformat": 4,
 "nbformat_minor": 2
}
