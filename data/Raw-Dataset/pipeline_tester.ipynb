{
 "cells": [
  {
   "cell_type": "code",
   "execution_count": 4,
   "metadata": {},
   "outputs": [],
   "source": [
    "import numpy as np\n",
    "import os\n",
    "import random\n",
    "from tqdm.auto import tqdm\n",
    "import cv2\n",
    "import pyarrow.parquet as pq\n",
    "import glob\n",
    "import math\n",
    "import cupy as cp\n",
    "from einops import rearrange\n",
    "import time as time\n",
    "import matplotlib.pyplot as plt"
   ]
  },
  {
   "cell_type": "code",
   "execution_count": 34,
   "metadata": {},
   "outputs": [
    {
     "ename": "OSError",
     "evalue": "Couldn't deserialize thrift: bad allocation\n",
     "output_type": "error",
     "traceback": [
      "\u001b[1;31m---------------------------------------------------------------------------\u001b[0m",
      "\u001b[1;31mOSError\u001b[0m                                   Traceback (most recent call last)",
      "Cell \u001b[1;32mIn [34], line 1\u001b[0m\n\u001b[1;32m----> 1\u001b[0m file \u001b[39m=\u001b[39m pq\u001b[39m.\u001b[39;49mParquetFile(\u001b[39m\"\u001b[39;49m\u001b[39m./Data_Raw_Tau/DYToTauTau_M-10_13TeV_pythia8_2018_ext1/DYToTauTau_M-10_13TeV_pythia8_2018_ext1_0.parquet\u001b[39;49m\u001b[39m\"\u001b[39;49m)\n\u001b[0;32m      2\u001b[0m batch \u001b[39m=\u001b[39m file\u001b[39m.\u001b[39miter_batches(\u001b[39m2048\u001b[39m)\n\u001b[0;32m      3\u001b[0m batch \u001b[39m=\u001b[39m \u001b[39mnext\u001b[39m(batch)\n",
      "File \u001b[1;32mc:\\Users\\ML_RTC\\Desktop\\Tau\\work\\lib\\site-packages\\pyarrow\\parquet\\__init__.py:286\u001b[0m, in \u001b[0;36mParquetFile.__init__\u001b[1;34m(self, source, metadata, common_metadata, read_dictionary, memory_map, buffer_size, pre_buffer, coerce_int96_timestamp_unit, decryption_properties, thrift_string_size_limit, thrift_container_size_limit)\u001b[0m\n\u001b[0;32m    280\u001b[0m \u001b[39mdef\u001b[39;00m \u001b[39m__init__\u001b[39m(\u001b[39mself\u001b[39m, source, \u001b[39m*\u001b[39m, metadata\u001b[39m=\u001b[39m\u001b[39mNone\u001b[39;00m, common_metadata\u001b[39m=\u001b[39m\u001b[39mNone\u001b[39;00m,\n\u001b[0;32m    281\u001b[0m              read_dictionary\u001b[39m=\u001b[39m\u001b[39mNone\u001b[39;00m, memory_map\u001b[39m=\u001b[39m\u001b[39mFalse\u001b[39;00m, buffer_size\u001b[39m=\u001b[39m\u001b[39m0\u001b[39m,\n\u001b[0;32m    282\u001b[0m              pre_buffer\u001b[39m=\u001b[39m\u001b[39mFalse\u001b[39;00m, coerce_int96_timestamp_unit\u001b[39m=\u001b[39m\u001b[39mNone\u001b[39;00m,\n\u001b[0;32m    283\u001b[0m              decryption_properties\u001b[39m=\u001b[39m\u001b[39mNone\u001b[39;00m, thrift_string_size_limit\u001b[39m=\u001b[39m\u001b[39mNone\u001b[39;00m,\n\u001b[0;32m    284\u001b[0m              thrift_container_size_limit\u001b[39m=\u001b[39m\u001b[39mNone\u001b[39;00m):\n\u001b[0;32m    285\u001b[0m     \u001b[39mself\u001b[39m\u001b[39m.\u001b[39mreader \u001b[39m=\u001b[39m ParquetReader()\n\u001b[1;32m--> 286\u001b[0m     \u001b[39mself\u001b[39;49m\u001b[39m.\u001b[39;49mreader\u001b[39m.\u001b[39;49mopen(\n\u001b[0;32m    287\u001b[0m         source, use_memory_map\u001b[39m=\u001b[39;49mmemory_map,\n\u001b[0;32m    288\u001b[0m         buffer_size\u001b[39m=\u001b[39;49mbuffer_size, pre_buffer\u001b[39m=\u001b[39;49mpre_buffer,\n\u001b[0;32m    289\u001b[0m         read_dictionary\u001b[39m=\u001b[39;49mread_dictionary, metadata\u001b[39m=\u001b[39;49mmetadata,\n\u001b[0;32m    290\u001b[0m         coerce_int96_timestamp_unit\u001b[39m=\u001b[39;49mcoerce_int96_timestamp_unit,\n\u001b[0;32m    291\u001b[0m         decryption_properties\u001b[39m=\u001b[39;49mdecryption_properties,\n\u001b[0;32m    292\u001b[0m         thrift_string_size_limit\u001b[39m=\u001b[39;49mthrift_string_size_limit,\n\u001b[0;32m    293\u001b[0m         thrift_container_size_limit\u001b[39m=\u001b[39;49mthrift_container_size_limit,\n\u001b[0;32m    294\u001b[0m     )\n\u001b[0;32m    295\u001b[0m     \u001b[39mself\u001b[39m\u001b[39m.\u001b[39mcommon_metadata \u001b[39m=\u001b[39m common_metadata\n\u001b[0;32m    296\u001b[0m     \u001b[39mself\u001b[39m\u001b[39m.\u001b[39m_nested_paths_by_prefix \u001b[39m=\u001b[39m \u001b[39mself\u001b[39m\u001b[39m.\u001b[39m_build_nested_paths()\n",
      "File \u001b[1;32mc:\\Users\\ML_RTC\\Desktop\\Tau\\work\\lib\\site-packages\\pyarrow\\_parquet.pyx:1227\u001b[0m, in \u001b[0;36mpyarrow._parquet.ParquetReader.open\u001b[1;34m()\u001b[0m\n",
      "File \u001b[1;32mc:\\Users\\ML_RTC\\Desktop\\Tau\\work\\lib\\site-packages\\pyarrow\\error.pxi:115\u001b[0m, in \u001b[0;36mpyarrow.lib.check_status\u001b[1;34m()\u001b[0m\n",
      "\u001b[1;31mOSError\u001b[0m: Couldn't deserialize thrift: bad allocation\n"
     ]
    }
   ],
   "source": [
    "file = pq.ParquetFile(\"./Data_Raw_Tau/DYToTauTau_M-10_13TeV_pythia8_2018_ext1/DYToTauTau_M-10_13TeV_pythia8_2018_ext1_0.parquet\")\n",
    "batch = file.iter_batches(2048)\n",
    "batch = next(batch)\n",
    "batch = batch.to_pandas()\n",
    "im = cp.array(np.array(np.array(batch.iloc[:, 3].tolist()).tolist()).tolist())\n",
    "meta = np.array(batch.iloc[:, 0])\n",
    "\n",
    "im[im < 1.e-3] = 0 #Zero_suppression\n",
    "im = rearrange(im, 'b c h w -> b h w c')\n",
    "for _z in range(13):\n",
    "\tim[:,:,:,_z] = (im[:,:,:,_z] - im[:,:,:,_z].mean())/(im[:,:,:,_z].std())\n",
    "\tim[:,:,:,_z] = cp.clip(im[:,:,:,_z], a_min = 0, a_max = 500*im[:,:,:,_z].std(axis = (1,2))[:,None,None])\n",
    " \n",
    "im = im.get()\n",
    "img = im[0,:,:,:]\n",
    "for _z in range(13):\n",
    "\t\n",
    "\tif (img[:,:,_z]==0).all() == False:\n",
    "\t\timg[:,:,_z] = 255*(img[:,:,_z])/(img[:,:,_z].max())\n",
    "\n",
    "\n",
    "\n",
    "img = img.astype(np.uint8)\n",
    "img = rearrange(img, 'h w c -> h ( w c )')"
   ]
  },
  {
   "cell_type": "code",
   "execution_count": 29,
   "metadata": {},
   "outputs": [],
   "source": [
    "img2 = plt.imread(\"./Data_extracted/DYToTauTau_M-10_13TeV_pythia8_2018_ext1/1.png\")"
   ]
  },
  {
   "cell_type": "code",
   "execution_count": 30,
   "metadata": {},
   "outputs": [],
   "source": [
    "img = img/255"
   ]
  }
 ],
 "metadata": {
  "kernelspec": {
   "display_name": "Python 3.9.13 ('work': venv)",
   "language": "python",
   "name": "python3"
  },
  "language_info": {
   "codemirror_mode": {
    "name": "ipython",
    "version": 3
   },
   "file_extension": ".py",
   "mimetype": "text/x-python",
   "name": "python",
   "nbconvert_exporter": "python",
   "pygments_lexer": "ipython3",
   "version": "3.9.13"
  },
  "orig_nbformat": 4,
  "vscode": {
   "interpreter": {
    "hash": "a451ac2f6474dd9b0a30794b989a06fd287e54d8f56584134d8b3bcabcab9c76"
   }
  }
 },
 "nbformat": 4,
 "nbformat_minor": 2
}
